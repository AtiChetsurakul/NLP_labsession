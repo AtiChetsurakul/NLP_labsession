{
 "cells": [
  {
   "attachments": {},
   "cell_type": "markdown",
   "metadata": {},
   "source": [
    "# SpaCy!\n",
    "\n",
    "- huge library\n",
    "- every thing, e.g., tagger, ner, pos, uses CNN\n",
    "- #1 library for NLP (e.g., NLTK, gensim)\n",
    "- HuggingFace (mostly for deep learning)\n",
    "\n",
    "    `pip install spacy or pip install -U 'spacy[cuda-autodetect]'`\n",
    "\n",
    "    `python -m spacy download en_core_web_sm`\n",
    "\n",
    "    `python -m spacy download en_core_web_md`   #has word embedding (gloVe)"
   ]
  },
  {
   "cell_type": "code",
   "execution_count": 2,
   "metadata": {},
   "outputs": [],
   "source": [
    "import spacy\n",
    "spacy.__version__\n",
    "\n",
    "#create a spacy object that can parse a lot of stuffs\n",
    "#based on some learned model\n",
    "\n",
    "nlp = spacy.load('en_core_web_sm')"
   ]
  },
  {
   "cell_type": "code",
   "execution_count": 3,
   "metadata": {},
   "outputs": [],
   "source": [
    "text = 'Chaky really like to eat naan and masala.  He also likes to eat sushi.'\n",
    "doc = nlp(text)"
   ]
  },
  {
   "cell_type": "code",
   "execution_count": 5,
   "metadata": {},
   "outputs": [
    {
     "name": "stdout",
     "output_type": "stream",
     "text": [
      "Chaky\n",
      "really\n",
      "like\n",
      "to\n",
      "eat\n",
      "naan\n",
      "and\n",
      "masala\n",
      ".\n",
      " \n",
      "Chaky really like to eat naan and masala.  \n",
      "He also likes to eat sushi.\n"
     ]
    }
   ],
   "source": [
    "#there are so many things in this doc\n",
    "for tokens in doc[:10]:\n",
    "    print(tokens)  #this spacy.tokens.doc.Doc already tokenize it!!!\n",
    "    \n",
    "\n",
    "\n",
    "for sent in doc.sents:\n",
    "    print(sent)  #it also has sentence "
   ]
  },
  {
   "cell_type": "code",
   "execution_count": null,
   "metadata": {},
   "outputs": [],
   "source": []
  }
 ],
 "metadata": {
  "kernelspec": {
   "display_name": "ai50",
   "language": "python",
   "name": "python3"
  },
  "language_info": {
   "codemirror_mode": {
    "name": "ipython",
    "version": 3
   },
   "file_extension": ".py",
   "mimetype": "text/x-python",
   "name": "python",
   "nbconvert_exporter": "python",
   "pygments_lexer": "ipython3",
   "version": "3.9.15"
  },
  "orig_nbformat": 4,
  "vscode": {
   "interpreter": {
    "hash": "da867d72de60a3e86a2b69a9a7baea090d67382d01a73f765a7401ae7e7cc0f6"
   }
  }
 },
 "nbformat": 4,
 "nbformat_minor": 2
}
