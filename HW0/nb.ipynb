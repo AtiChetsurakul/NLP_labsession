{
 "cells": [
  {
   "cell_type": "code",
   "execution_count": 1,
   "metadata": {},
   "outputs": [],
   "source": [
    "import requests\n",
    "from bs4 import BeautifulSoup\n",
    "import pickle"
   ]
  },
  {
   "cell_type": "code",
   "execution_count": 2,
   "metadata": {},
   "outputs": [],
   "source": [
    "if False:\n",
    "    URL = 'https://towardsdatascience.com/web-scraping-basics-82f8b5acd45c'\n",
    "    response = requests.get(URL)\n",
    "    website_html = response.text\n",
    "    soup = BeautifulSoup(website_html, \"html.parser\")\n",
    "    all_paragraph = soup.find_all(name=\"p\", class_=\"pw-post-body-paragraph\")\n",
    "    get_only_text = [para.getText() for para in all_paragraph]\n",
    "    # print(len(get_only_text)) # 40 quite enough\n",
    "    my_corpus = [text[:80] for text in get_only_text if len(text) > 40 ] \n",
    "    with open('hijackdata.atikeep','wb') as tostore:\n",
    "        pickle.dump(my_corpus,tostore)"
   ]
  },
  {
   "cell_type": "code",
   "execution_count": 3,
   "metadata": {},
   "outputs": [
    {
     "name": "stdout",
     "output_type": "stream",
     "text": [
      "all document =  38 doc, and each document have around 80 characters\n"
     ]
    }
   ],
   "source": [
    "with open('hijackdata.atikeep','rb') as readed:\n",
    "    my_corpus = pickle.load(readed)\n",
    "print('all document = ',len(my_corpus),'doc, and each document have around',len(my_corpus[-1]),'characters')\n"
   ]
  },
  {
   "cell_type": "code",
   "execution_count": null,
   "metadata": {},
   "outputs": [],
   "source": []
  }
 ],
 "metadata": {
  "kernelspec": {
   "display_name": "ai50",
   "language": "python",
   "name": "python3"
  },
  "language_info": {
   "codemirror_mode": {
    "name": "ipython",
    "version": 3
   },
   "file_extension": ".py",
   "mimetype": "text/x-python",
   "name": "python",
   "nbconvert_exporter": "python",
   "pygments_lexer": "ipython3",
   "version": "3.9.15"
  },
  "orig_nbformat": 4,
  "vscode": {
   "interpreter": {
    "hash": "da867d72de60a3e86a2b69a9a7baea090d67382d01a73f765a7401ae7e7cc0f6"
   }
  }
 },
 "nbformat": 4,
 "nbformat_minor": 2
}
