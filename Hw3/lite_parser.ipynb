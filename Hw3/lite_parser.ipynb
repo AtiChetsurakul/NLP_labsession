{
 "cells": [
  {
   "cell_type": "code",
   "execution_count": 1,
   "metadata": {},
   "outputs": [],
   "source": [
    "import pandas as pd\n",
    "import numpy as np\n",
    "import spacy\n",
    "from spacy import displacy\n",
    "from PyPDF2 import PdfReader\n",
    "from spacy.lang.en.stop_words import STOP_WORDS\n"
   ]
  },
  {
   "attachments": {},
   "cell_type": "markdown",
   "metadata": {},
   "source": [
    "## This notebook just create for testing the jsonl data for eduication extracting"
   ]
  },
  {
   "cell_type": "code",
   "execution_count": 2,
   "metadata": {},
   "outputs": [],
   "source": [
    "nlp = spacy.load('en_core_web_md')\n",
    "## here i add some for edu\n",
    "skill_path = \"edu_skill.jsonl\""
   ]
  },
  {
   "cell_type": "code",
   "execution_count": 3,
   "metadata": {},
   "outputs": [
    {
     "data": {
      "text/plain": [
       "['tok2vec',\n",
       " 'tagger',\n",
       " 'parser',\n",
       " 'attribute_ruler',\n",
       " 'lemmatizer',\n",
       " 'ner',\n",
       " 'entity_ruler']"
      ]
     },
     "execution_count": 3,
     "metadata": {},
     "output_type": "execute_result"
    }
   ],
   "source": [
    "ruler = nlp.add_pipe(\"entity_ruler\")\n",
    "ruler.from_disk(skill_path)\n",
    "nlp.pipe_names"
   ]
  },
  {
   "cell_type": "code",
   "execution_count": 4,
   "metadata": {},
   "outputs": [],
   "source": [
    "### Theacher code for cleaning\n",
    "#before that, let's clean our resume.csv dataframe\n",
    "def preprocessing(sentence):\n",
    "    \n",
    "    stopwords = list(STOP_WORDS)\n",
    "    doc = nlp(sentence)\n",
    "    cleaned_tokens = []\n",
    "    \n",
    "    for token in doc:\n",
    "        if token.text not in stopwords and token.pos_ != 'PUNCT' and token.pos_ != 'SPACE' and \\\n",
    "            token.pos_ != 'SYM':\n",
    "                cleaned_tokens.append(token.lemma_.lower().strip())\n",
    "                \n",
    "    return \" \".join(cleaned_tokens)"
   ]
  },
  {
   "cell_type": "code",
   "execution_count": 1,
   "metadata": {},
   "outputs": [],
   "source": [
    "def to_read(cv_path, page=5):\n",
    "    reader = PdfReader(cv_path)\n",
    "    page = reader.pages[page]\n",
    "    text = page.extract_text()\n",
    "    text = preprocessing(text)\n",
    "    doc = nlp(text)\n",
    "\n",
    "    skills = []\n",
    "    education = []\n",
    "# extract the Edication skill with label\n",
    "\n",
    "    \n",
    "    for ent in doc.ents:\n",
    "        # all_lab.append(ent.label_)\n",
    "        if ent.label_ == 'SKILL':\n",
    "            skills.append(ent.text)\n",
    "        if ent.label_ == 'EDUCATION':\n",
    "            education.append(ent.text)\n",
    "    return skills, education"
   ]
  },
  {
   "cell_type": "code",
   "execution_count": 41,
   "metadata": {},
   "outputs": [],
   "source": [
    "sk,hi = to_read('someone_cv.pdf',5)"
   ]
  },
  {
   "cell_type": "code",
   "execution_count": 45,
   "metadata": {},
   "outputs": [
    {
     "name": "stdout",
     "output_type": "stream",
     "text": [
      "{'postdoc', 'doctoral'} {'speech recognition', 'electrical engineering', 'computer science', 'algorithm', 'computer engineering'}\n"
     ]
    }
   ],
   "source": [
    "print(set(hi),set(sk))"
   ]
  },
  {
   "cell_type": "code",
   "execution_count": 34,
   "metadata": {},
   "outputs": [],
   "source": [
    "\n",
    "reader = PdfReader(\"someone_cv.pdf\")\n",
    "page = reader.pages[5]\n",
    "text = page.extract_text() \n",
    "ext = preprocessing(text)\n",
    "doc = nlp(text)\n",
    "education = []\n",
    "for ent in doc.ents:\n",
    "    if ent.label_ == 'EDUCATION':\n",
    "        education.append(ent.text)\n",
    "# colors = {\"SKILL\": \"linear-gradient(90deg, #aa9cfc, #fc9ce7)\"}\n",
    "# options = {\"colors\": colors}\n",
    "\n",
    "# displacy.render(doc, style=\"ent\", options=options)"
   ]
  },
  {
   "cell_type": "code",
   "execution_count": 35,
   "metadata": {},
   "outputs": [
    {
     "data": {
      "text/plain": [
       "['doctoral', 'doctoral']"
      ]
     },
     "execution_count": 35,
     "metadata": {},
     "output_type": "execute_result"
    }
   ],
   "source": [
    "education"
   ]
  },
  {
   "cell_type": "code",
   "execution_count": null,
   "metadata": {},
   "outputs": [],
   "source": []
  }
 ],
 "metadata": {
  "kernelspec": {
   "display_name": "ai50",
   "language": "python",
   "name": "python3"
  },
  "language_info": {
   "codemirror_mode": {
    "name": "ipython",
    "version": 3
   },
   "file_extension": ".py",
   "mimetype": "text/x-python",
   "name": "python",
   "nbconvert_exporter": "python",
   "pygments_lexer": "ipython3",
   "version": "3.9.15"
  },
  "orig_nbformat": 4,
  "vscode": {
   "interpreter": {
    "hash": "da867d72de60a3e86a2b69a9a7baea090d67382d01a73f765a7401ae7e7cc0f6"
   }
  }
 },
 "nbformat": 4,
 "nbformat_minor": 2
}
