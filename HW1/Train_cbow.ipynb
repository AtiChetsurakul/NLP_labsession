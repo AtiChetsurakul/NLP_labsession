{
  "cells": [
    {
      "attachments": {},
      "cell_type": "markdown",
      "metadata": {},
      "source": [
        "# Natural Language Processing\n",
        "\n",
        "## Word2Vec\n",
        "### CBOW\n",
        "\n",
        "Let's work on skipgram-based implementation of word2vec."
      ]
    },
    {
      "cell_type": "code",
      "execution_count": 1,
      "metadata": {},
      "outputs": [],
      "source": [
        "import numpy as np\n",
        "import torch\n",
        "import torch.nn as nn\n",
        "import torch.optim as optim\n",
        "import matplotlib.pyplot as plt\n",
        "import pickle"
      ]
    },
    {
      "attachments": {},
      "cell_type": "markdown",
      "metadata": {},
      "source": [
        "## 1. Define some very simple data for understanding"
      ]
    },
    {
      "cell_type": "code",
      "execution_count": 2,
      "metadata": {},
      "outputs": [
        {
          "data": {
            "text/plain": [
              "torch.Size([2, 5820])"
            ]
          },
          "execution_count": 2,
          "metadata": {},
          "output_type": "execute_result"
        }
      ],
      "source": [
        "with open('wordtotrain_use.atikeep','rb') as pic:\n",
        "    corpus,vocab,word2index,index2word = pickle.load(pic)\n",
        "flatten = lambda l: [item for sublist in l for item in sublist]\n",
        "voc_size = len(vocab)\n",
        "\n",
        "\n",
        "batch_size = 2\n",
        "\n",
        "def prepare_seqeunce(seq, word2index):\n",
        "    #map(fucntion, list of something)\n",
        "    #map will look at each of element in this list, and apply this function\n",
        "    idxs = list(map(lambda w: word2index[w] if word2index.get(w) is not None else word2index[\"<UNK>\"], seq))\n",
        "    return torch.LongTensor(idxs)\n",
        "\n",
        "all_vocabs = prepare_seqeunce(list(vocab),word2index).expand(batch_size, voc_size)\n",
        "all_vocabs.shape\n"
      ]
    },
    {
      "attachments": {},
      "cell_type": "markdown",
      "metadata": {},
      "source": [
        "## 2. Prepare train data"
      ]
    },
    {
      "cell_type": "code",
      "execution_count": 3,
      "metadata": {},
      "outputs": [],
      "source": [
        "def random_batch(batch_size, corpus, window_size=1,architecture='skipgram',corpus_tokenized = corpus):\n",
        "    skipgrams = []\n",
        "    cbows = []\n",
        "    #for each corpus\n",
        "    for sent in corpus_tokenized:\n",
        "        #for each sent ('apple', 'banana', 'fruit')\n",
        "        for i in range(window_size,len(sent)-window_size): #start from 2 to second last\n",
        "            context_word = []\n",
        "            # print(sent[i])\n",
        "            center_word = word2index[sent[i]]\n",
        "            for j in range(window_size):\n",
        "                outside_word = [word2index[sent[i-j-1]],word2index[sent[i+j+1]]] #window_size adjustable\n",
        "                #here we want to create (banana, apple), (banana, fruit) append to some list\n",
        "                for o in outside_word:\n",
        "                    context_word.append(o)\n",
        "                    skipgrams.append([center_word,o])\n",
        "                cbows.append([context_word,center_word])\n",
        "\n",
        "    if architecture == 'skipgram':\n",
        "        arch = skipgrams\n",
        "    else:\n",
        "        arch = cbows\n",
        "        \n",
        "    #only get a batch, not the entire lsit\n",
        "    random_index = np.random.choice(range(len(arch)),batch_size,replace=False)\n",
        "    #appending some list of inputs and labels\n",
        "    random_inputs, random_labels = [] , []\n",
        "    for index in random_index:\n",
        "        # print(arch[index])\n",
        "        random_inputs.append([arch[index][0]]) #center words, this will be as shape of (1,) -> (1,1) for modeling\n",
        "        random_labels.append([arch[index][1]])\n",
        "\n",
        "    return np.array(random_inputs),np.array(random_labels)"
      ]
    },
    {
      "attachments": {},
      "cell_type": "markdown",
      "metadata": {},
      "source": [
        "### Model blueprint "
      ]
    },
    {
      "cell_type": "code",
      "execution_count": 4,
      "metadata": {},
      "outputs": [],
      "source": [
        "class CBOW(nn.Module): #same as skipgram\n",
        "    def __init__(self,voc_size, emb_size):\n",
        "        super(CBOW,self).__init__()\n",
        "        self.embedding_center_word = nn.Embedding(voc_size, emb_size) #is a lookup table mapping all ids in voc_size, into some vector of size emb_size\n",
        "        self.embedding_outside_word = nn.Embedding(voc_size, emb_size)\n",
        "    \n",
        "    def forward(self, center_word, outside_word, all_vocabs):\n",
        "        #center_word, outside_word: (batch_size,1)\n",
        "        #all_vocabs : (batch_size, voc_size)\n",
        "        #convert them into embedding\n",
        "        center_word_embed = self.embedding_center_word(center_word)     #v_c (batch_size,1, emb_size)\n",
        "        outside_word_embed = self.embedding_outside_word(outside_word)  #u_o (batch_size,1, emb_size)\n",
        "        all_vocabs_embed = self.embedding_outside_word(all_vocabs)      #u_w (batch_size,voc_size, emb_size)\n",
        "        # print(center_word_embed.shape,outside_word_embed.shape,all_vocabs_embed.shape)\n",
        "        #bmm is basically @ or .dot but across batches (ie., ignore the batch dimension)\n",
        "        top_term = outside_word_embed.bmm(center_word_embed.transpose(1,2)).squeeze(2)\n",
        "        #(batch_size,1, emb_size) @ (batch_size, emb_size, 1) = (batch_size, 1, 1) ===> (batch_size, 1)\n",
        "        top_term_exp = torch.exp(top_term) #exp(uo vc)\n",
        "        #(batch_size, 1)\n",
        "        lower_term = all_vocabs_embed.bmm(center_word_embed.transpose(1,2)).squeeze(2)\n",
        "        #(batch_size, voc_size, emb_size) @ (batch_size, emb_size, 1) = (batch_size, voc_size, 1) ===> (batch_size, voc_size)\n",
        "        lower_term_sum = torch.sum(torch.exp(lower_term)) #sum exp(uw, vc)\n",
        "        #(batch_size, 1)\n",
        "        loss_fn = -torch.mean(torch.log(top_term_exp/lower_term_sum))\n",
        "        #(batc_size,1) / (batch_size,1) ==mena==> scalar\n",
        "        return loss_fn"
      ]
    },
    {
      "cell_type": "code",
      "execution_count": 7,
      "metadata": {},
      "outputs": [
        {
          "data": {
            "text/plain": [
              "(torch.Size([2, 4]), torch.Size([2, 1]), torch.Size([2, 5820]))"
            ]
          },
          "execution_count": 7,
          "metadata": {},
          "output_type": "execute_result"
        }
      ],
      "source": [
        "batch_size = 2 #why? no reason\n",
        "emb_size = 2 #why? no reason; usually 50,100, 300 but 2 so we can plot (50 can also plot, but need PCA)\n",
        "model = CBOW(voc_size,emb_size)\n",
        "window_size=2\n",
        "criterion = nn.CrossEntropyLoss() #-log\n",
        "optimizer = optim.Adam(model.parameters(), lr=0.001)\n",
        "input_batch, label_batch = random_batch(batch_size,corpus,window_size=2,architecture='cbow')\n",
        "input_batch = torch.LongTensor(input_batch).view(batch_size,window_size*2)\n",
        "label_batch = torch.LongTensor(label_batch)\n",
        "input_batch.shape,label_batch.shape,all_vocabs.shape\n"
      ]
    },
    {
      "cell_type": "markdown",
      "metadata": {},
      "source": [
        "## 4. Training"
      ]
    },
    {
      "cell_type": "code",
      "execution_count": null,
      "metadata": {},
      "outputs": [],
      "source": []
    },
    {
      "cell_type": "code",
      "execution_count": 8,
      "metadata": {},
      "outputs": [
        {
          "name": "stdout",
          "output_type": "stream",
          "text": [
            "Epoch: 100 | cost: 11.299652 | time: 17.72466206550598\n",
            "Epoch: 200 | cost: 10.979570 | time: 35.26954507827759\n",
            "Epoch: 300 | cost: 11.599943 | time: 55.95752930641174\n",
            "Epoch: 400 | cost: 11.446724 | time: 75.82228302955627\n",
            "Epoch: 500 | cost: 11.278444 | time: 94.97708511352539\n"
          ]
        }
      ],
      "source": [
        "import time\n",
        "num_epochs = 500\n",
        "#for epoch\n",
        "start = time.time()\n",
        "for epoch in range(num_epochs):\n",
        "    \n",
        "    #get random batch\n",
        "    input_batch, label_batch = random_batch(batch_size,corpus,window_size=2,architecture='cbow')\n",
        "    input_batch = torch.LongTensor(input_batch).view(batch_size,window_size*2)\n",
        "    label_batch = torch.LongTensor(label_batch).view(-1,1)\n",
        "\n",
        "    # print(input_batch.shape,label_batch.shape,all_vocabs.shape)\n",
        "    # break\n",
        "\n",
        "    #loss = model\n",
        "    loss = model(input_batch,label_batch,all_vocabs)\n",
        "    \n",
        "    #backpropagate\n",
        "    loss.backward()\n",
        "    #update alpha\n",
        "    optimizer.step()\n",
        "\n",
        "    end = time.time()\n",
        "    #print epoch loss\n",
        "    if (epoch + 1) % 100 == 0:\n",
        "        print(f\"Epoch: {epoch + 1} | cost: {loss:.6f} | time: {end-start}\")\n",
        "    # break"
      ]
    },
    {
      "cell_type": "code",
      "execution_count": 9,
      "metadata": {},
      "outputs": [],
      "source": [
        "import pickle\n",
        "with open('myhob_C_Bro.atikeep', 'wb') as handle:\n",
        "    pickle.dump((model), handle)"
      ]
    },
    {
      "cell_type": "markdown",
      "metadata": {},
      "source": [
        "## 5. Plotting the embeddings"
      ]
    }
  ],
  "metadata": {
    "anaconda-cloud": {},
    "kernelspec": {
      "display_name": "ai50",
      "language": "python",
      "name": "python3"
    },
    "language_info": {
      "codemirror_mode": {
        "name": "ipython",
        "version": 3
      },
      "file_extension": ".py",
      "mimetype": "text/x-python",
      "name": "python",
      "nbconvert_exporter": "python",
      "pygments_lexer": "ipython3",
      "version": "3.9.15"
    },
    "vscode": {
      "interpreter": {
        "hash": "da867d72de60a3e86a2b69a9a7baea090d67382d01a73f765a7401ae7e7cc0f6"
      }
    }
  },
  "nbformat": 4,
  "nbformat_minor": 4
}
