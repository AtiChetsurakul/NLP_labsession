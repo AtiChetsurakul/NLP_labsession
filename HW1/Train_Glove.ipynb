{
 "cells": [
  {
   "cell_type": "code",
   "execution_count": 1,
   "metadata": {},
   "outputs": [],
   "source": [
    "from nltk.corpus import brown\n",
    "import numpy as np\n",
    "import torch\n",
    "import torch.nn as nn\n",
    "import torch.optim as optim\n",
    "import matplotlib.pyplot as plt\n",
    "from collections import Counter\n",
    "import math\n",
    "from itertools import combinations_with_replacement\n",
    "import pandas as pd\n",
    "import re\n",
    "import pickle"
   ]
  },
  {
   "cell_type": "code",
   "execution_count": 2,
   "metadata": {},
   "outputs": [],
   "source": [
    "# !nltk.download('brown')"
   ]
  },
  {
   "cell_type": "code",
   "execution_count": 3,
   "metadata": {},
   "outputs": [
    {
     "data": {
      "text/plain": [
       "['adventure',\n",
       " 'belles_lettres',\n",
       " 'editorial',\n",
       " 'fiction',\n",
       " 'government',\n",
       " 'hobbies',\n",
       " 'humor',\n",
       " 'learned',\n",
       " 'lore',\n",
       " 'mystery',\n",
       " 'news',\n",
       " 'religion',\n",
       " 'reviews',\n",
       " 'romance',\n",
       " 'science_fiction']"
      ]
     },
     "execution_count": 3,
     "metadata": {},
     "output_type": "execute_result"
    }
   ],
   "source": [
    "# brown.categories()"
   ]
  },
  {
   "cell_type": "code",
   "execution_count": 4,
   "metadata": {},
   "outputs": [
    {
     "name": "stdout",
     "output_type": "stream",
     "text": [
      "4193\n",
      "['Keep', 'it', 'no', 'longer', 'than', '36', 'hours', 'before', 'cooking', ',', 'and', 'keep', 'it', 'in', 'the', 'coldest', '(', 'but', 'non-freezing', ')', 'compartment', 'of', 'the', 'refrigerator', '.']\n"
     ]
    }
   ],
   "source": [
    "# print(len(brown.sents(categories=['hobbies'])))\n",
    "# ## too much, to lazy\n",
    "# corpus_tokenize_ati_made_cannotdel_canu_haha = brown.sents(categories=['hobbies'])[:1500]\n",
    "# print(corpus_tokenize_ati_made_cannotdel_canu_haha[-10])"
   ]
  },
  {
   "cell_type": "code",
   "execution_count": 5,
   "metadata": {},
   "outputs": [
    {
     "name": "stdout",
     "output_type": "stream",
     "text": [
      "6298\n"
     ]
    }
   ],
   "source": [
    "# vocab = list(set(flatten(corpus_tokenize_ati_made_cannotdel_canu_haha)))\n",
    "# vocab[:4]\n",
    "# vocab.append('<UNK>')\n",
    "# word2index = {w: i for i, w in enumerate(vocab)}\n",
    "\n",
    "# # print(word2index)\n",
    "# voc_size = len(vocab)\n",
    "# print(voc_size)\n",
    "\n",
    "# index2word = {v:k for k, v in word2index.items()} "
   ]
  },
  {
   "cell_type": "code",
   "execution_count": 5,
   "metadata": {},
   "outputs": [],
   "source": [
    "with open('wordtotrain_use.atikeep','rb') as pic:\n",
    "    corpus_tokenize_ati_made_cannotdel_canu_haha,vocab,word2index,index2word = pickle.load(pic)\n",
    "flatten = lambda l: [item for sublist in l for item in sublist]\n",
    "voc_size = len(vocab)"
   ]
  },
  {
   "attachments": {},
   "cell_type": "markdown",
   "metadata": {},
   "source": [
    "## 2. Build Co-occurence Matrix X\n",
    "- Here, we need to count the co-occurence of two words given some window size.  We gonna use window size of 1."
   ]
  },
  {
   "cell_type": "code",
   "execution_count": 6,
   "metadata": {},
   "outputs": [],
   "source": [
    "\n",
    "\n",
    "X_i = Counter(flatten(corpus_tokenize_ati_made_cannotdel_canu_haha)) # X_i\n",
    "# X_i[:3]"
   ]
  },
  {
   "cell_type": "code",
   "execution_count": 7,
   "metadata": {},
   "outputs": [],
   "source": [
    "# Make skip gram of one size window\n",
    "skip_grams = []\n",
    "# loop each word sequence\n",
    "# we starts from 1 because 0 has no context\n",
    "# we stop at second last for the same reason\n",
    "for sent in corpus_tokenize_ati_made_cannotdel_canu_haha:\n",
    "    for i in range(1, len(sent) - 1):\n",
    "        target = sent[i]\n",
    "        context = [sent[i - 1], sent[i + 1]]\n",
    "        for w in context:\n",
    "            skip_grams.append((target, w))\n",
    "\n",
    "# skip_grams\n",
    "\n",
    "\n",
    "X_ik_skipgram = Counter(skip_grams) # Co-occurece in window size 1\n",
    "# X_ik_skipgram"
   ]
  },
  {
   "attachments": {},
   "cell_type": "markdown",
   "metadata": {},
   "source": [
    "### Weighting function\n",
    "\n",
    "- ## Just like chakky do because chock copied directly\n",
    "\n",
    "GloVe includes a weighting function to scale down too frequent words.\n",
    "\n",
    "<img src = \"../../Python-for-NLP/Code/01 - Fundamental/figures/glove_weighting_func.png\" width=400>"
   ]
  },
  {
   "cell_type": "code",
   "execution_count": 8,
   "metadata": {},
   "outputs": [],
   "source": [
    "#simply a normalized function...don't worry too much\n",
    "def weighting(w_i, w_j, X_ik):\n",
    "        \n",
    "    #check whether the co-occurrences exist between these two words\n",
    "    try:\n",
    "        x_ij = X_ik[(w_i, w_j)]\n",
    "    except:\n",
    "        x_ij = 1  #if does not exist, set it to 1\n",
    "                \n",
    "    x_max = 100 #100 # fixed in paper  #cannot exceed 100 counts\n",
    "    alpha = 0.75\n",
    "    \n",
    "    #if co-occurrence does not exceed 100, scale it based on some alpha\n",
    "    if x_ij < x_max:\n",
    "        result = (x_ij/x_max)**alpha  #scale it\n",
    "    else:\n",
    "        result = 1  #if is greater than max, set it to 1 maximum\n",
    "    \n",
    "    return result"
   ]
  },
  {
   "cell_type": "code",
   "execution_count": 9,
   "metadata": {},
   "outputs": [],
   "source": [
    "\n",
    "\n",
    "X_ik = {}  #for keeping the co-occurences\n",
    "weighting_dic = {} #scaling the percentage of sampling\n",
    "\n",
    "for bigram in combinations_with_replacement(vocab, 2):\n",
    "    if X_ik_skipgram.get(bigram) is not None:  #matches \n",
    "        co_occer = X_ik_skipgram[bigram]  #get the count from what we already counted\n",
    "        X_ik[bigram] = co_occer + 1 # + 1 for stability issue\n",
    "        X_ik[(bigram[1],bigram[0])] = co_occer+1   #count also for the opposite\n",
    "    else:\n",
    "        pass\n",
    "        \n",
    "    weighting_dic[bigram] = weighting(bigram[0], bigram[1], X_ik)\n",
    "    weighting_dic[(bigram[1], bigram[0])] = weighting(bigram[1], bigram[0], X_ik)\n",
    "\n",
    "# print(f\"{X_ik=}\")\n",
    "# print(f\"{weighting_dic=}\")\n"
   ]
  },
  {
   "attachments": {},
   "cell_type": "markdown",
   "metadata": {},
   "source": [
    "## 3.prepare train data"
   ]
  },
  {
   "cell_type": "code",
   "execution_count": 10,
   "metadata": {},
   "outputs": [],
   "source": [
    "\n",
    "\n",
    "def random_batch(batch_size, word_sequence, skip_grams, X_ik, weighting_dic):\n",
    "    \n",
    "    #convert to id since our skip_grams is word, not yet id\n",
    "    skip_grams_id = [(word2index[skip_gram[0]], word2index[skip_gram[1]]) for skip_gram in skip_grams]\n",
    "    \n",
    "    random_inputs = []\n",
    "    random_labels = []\n",
    "    random_coocs  = []\n",
    "    random_weightings = []\n",
    "    random_index = np.random.choice(range(len(skip_grams_id)), batch_size, replace=False) #randomly pick without replacement\n",
    "        \n",
    "    for i in random_index:\n",
    "        random_inputs.append([skip_grams_id[i][0]])  # target, e.g., 2\n",
    "        random_labels.append([skip_grams_id[i][1]])  # context word, e.g., 3\n",
    "        \n",
    "        #get cooc\n",
    "        pair = skip_grams[i]\n",
    "        try:\n",
    "            cooc = X_ik[pair]\n",
    "        except:\n",
    "            cooc = 1\n",
    "        random_coocs.append([math.log(cooc)])\n",
    "        \n",
    "        #get weighting\n",
    "        weighting = weighting_dic[pair]\n",
    "        random_weightings.append([weighting])\n",
    "                    \n",
    "    return np.array(random_inputs), np.array(random_labels), np.array(random_coocs), np.array(random_weightings)"
   ]
  },
  {
   "cell_type": "code",
   "execution_count": 11,
   "metadata": {},
   "outputs": [],
   "source": [
    "device = torch.device('cpu')"
   ]
  },
  {
   "attachments": {},
   "cell_type": "markdown",
   "metadata": {},
   "source": [
    "### testing the method"
   ]
  },
  {
   "cell_type": "code",
   "execution_count": 12,
   "metadata": {},
   "outputs": [
    {
     "name": "stdout",
     "output_type": "stream",
     "text": [
      "Input:  [[2735]\n",
      " [2012]]\n",
      "Target:  [[  83]\n",
      " [1245]]\n",
      "Cooc:  [[0.69314718]\n",
      " [0.69314718]]\n",
      "Weighting:  [[0.05318296]\n",
      " [0.05318296]]\n"
     ]
    }
   ],
   "source": [
    "# x#testing the method\n",
    "batch_size = 2 # mini-batch size\n",
    "input_batch, target_batch, cooc_batch, weighting_batch = random_batch(batch_size, corpus_tokenize_ati_made_cannotdel_canu_haha, skip_grams, X_ik, weighting_dic)\n",
    "\n",
    "print(\"Input: \", input_batch)\n",
    "print(\"Target: \", target_batch)\n",
    "print(\"Cooc: \", cooc_batch)\n",
    "print(\"Weighting: \", weighting_batch)\n",
    "\n",
    "#we will convert them to tensor during training, so don't worry.."
   ]
  },
  {
   "cell_type": "code",
   "execution_count": 13,
   "metadata": {},
   "outputs": [],
   "source": [
    "class GloVe(nn.Module):\n",
    "    \n",
    "    def __init__(self, vocab_size,embed_size):\n",
    "        super(GloVe,self).__init__()\n",
    "        self.embedding_v = nn.Embedding(vocab_size, embed_size) # center embedding\n",
    "        self.embedding_u = nn.Embedding(vocab_size, embed_size) # out embedding\n",
    "        \n",
    "        self.v_bias = nn.Embedding(vocab_size, 1)\n",
    "        self.u_bias = nn.Embedding(vocab_size, 1)\n",
    "        \n",
    "    def forward(self, center_words, target_words, coocs, weighting):\n",
    "        center_embeds = self.embedding_v(center_words) # [batch_size, 1, emb_size]\n",
    "        target_embeds = self.embedding_u(target_words) # [batch_size, 1, emb_size]\n",
    "        \n",
    "        center_bias = self.v_bias(center_words).squeeze(1)\n",
    "        target_bias = self.u_bias(target_words).squeeze(1)\n",
    "        \n",
    "        inner_product = target_embeds.bmm(center_embeds.transpose(1, 2)).squeeze(2)\n",
    "        #[batch_size, 1, emb_size] @ [batch_size, emb_size, 1] = [batch_size, 1, 1] = [batch_size, 1]\n",
    "        \n",
    "        #note that coocs already got log\n",
    "        loss = weighting*torch.pow(inner_product +center_bias + target_bias - coocs, 2)\n",
    "        \n",
    "        return torch.sum(loss)"
   ]
  },
  {
   "cell_type": "code",
   "execution_count": 14,
   "metadata": {},
   "outputs": [],
   "source": [
    "batch_size     = 10 # mini-batch size\n",
    "embedding_size = 2 #so we can later plot\n",
    "model          = GloVe(voc_size, embedding_size)\n",
    "\n",
    "criterion = nn.CrossEntropyLoss()\n",
    "optimizer = optim.Adam(model.parameters(), lr=0.001)\n",
    "\n",
    "def epoch_time(start_time, end_time):\n",
    "    elapsed_time = end_time - start_time\n",
    "    elapsed_mins = int(elapsed_time / 60)\n",
    "    elapsed_secs = int(elapsed_time - (elapsed_mins * 60))\n",
    "    return elapsed_mins, elapsed_secs"
   ]
  },
  {
   "cell_type": "code",
   "execution_count": 16,
   "metadata": {},
   "outputs": [
    {
     "name": "stdout",
     "output_type": "stream",
     "text": [
      "Epoch: 1000 | cost: 16.179327 | time: -0.018680095672607422s\n",
      "Epoch: 2000 | cost: 16.347530 | time: -0.017574310302734375s\n",
      "Epoch: 3000 | cost: 1.635131 | time: -0.01890087127685547s\n",
      "Epoch: 4000 | cost: 1.975415 | time: -0.03319716453552246s\n",
      "Epoch: 5000 | cost: 3.769938 | time: -0.021063804626464844s\n",
      "end loss = 3.769937515258789 + with time = 104.4947772026062 \n"
     ]
    }
   ],
   "source": [
    "import time\n",
    "if True:\n",
    "# Training\n",
    "    num_epochs = 5000\n",
    "    times = 0\n",
    "    for epoch in range(num_epochs):\n",
    "        \n",
    "        start = time.time()\n",
    "        \n",
    "        input_batch, target_batch, cooc_batch, weighting_batch = random_batch(batch_size, corpus_tokenize_ati_made_cannotdel_canu_haha, skip_grams, X_ik, weighting_dic)\n",
    "        input_batch  = torch.LongTensor(input_batch)         #[batch_size, 1]\n",
    "        target_batch = torch.LongTensor(target_batch)        #[batch_size, 1]\n",
    "        cooc_batch   = torch.FloatTensor(cooc_batch)         #[batch_size, 1]\n",
    "        weighting_batch = torch.FloatTensor(weighting_batch) #[batch_size, 1]\n",
    "        \n",
    "        optimizer.zero_grad()\n",
    "        loss = model(input_batch, target_batch, cooc_batch, weighting_batch)\n",
    "        \n",
    "        loss.backward()\n",
    "        optimizer.step()\n",
    "        \n",
    "        end = time.time()\n",
    "        \n",
    "        # epoch_mins, epoch_secs = epoch_time(start, end)\n",
    "        times -= (start-end) \n",
    "        if (epoch + 1) % 1000 == 0:\n",
    "            print(f\"Epoch: {epoch + 1} | cost: {loss:.6f} | time: {start-end}s\")\n",
    "    print(f\"end loss = {loss} + with time = {times} \")\n",
    "    # torch.save(model.state_dict(), \"myhobglove.pt\")\n",
    "    with open('myhobglove.atikeep', 'wb') as handle:\n",
    "        pickle.dump((model), handle)"
   ]
  },
  {
   "cell_type": "code",
   "execution_count": 17,
   "metadata": {},
   "outputs": [],
   "source": [
    "# model.load_state_dict(\"myhobglove.pt\")\n",
    "with open('myhobglove.atikeep', 'rb') as handle:\n",
    "    model = pickle.load(handle)"
   ]
  },
  {
   "cell_type": "code",
   "execution_count": 18,
   "metadata": {},
   "outputs": [],
   "source": [
    "#let's write a function to get embedding given a word\n",
    "def get_embed(word):\n",
    "    id_tensor = torch.LongTensor([word2index[word]])\n",
    "    v_embed = model.embedding_v(id_tensor)\n",
    "    u_embed = model.embedding_u(id_tensor) \n",
    "    word_embed = (v_embed + u_embed) / 2 \n",
    "    # print(v_embed)\n",
    "    x, y = word_embed[0][0].item(), word_embed[0][1].item()\n",
    "\n",
    "    return x, y"
   ]
  },
  {
   "cell_type": "code",
   "execution_count": 19,
   "metadata": {},
   "outputs": [
    {
     "data": {
      "text/plain": [
       "(-0.4783579111099243, -1.01332688331604)"
      ]
     },
     "execution_count": 19,
     "metadata": {},
     "output_type": "execute_result"
    }
   ],
   "source": [
    "get_embed('longer')"
   ]
  },
  {
   "cell_type": "code",
   "execution_count": 20,
   "metadata": {},
   "outputs": [
    {
     "data": {
      "text/plain": [
       "5441"
      ]
     },
     "execution_count": 20,
     "metadata": {},
     "output_type": "execute_result"
    }
   ],
   "source": [
    "word2index['longer']"
   ]
  },
  {
   "cell_type": "code",
   "execution_count": 21,
   "metadata": {},
   "outputs": [
    {
     "data": {
      "image/png": "[encoded data removed]",
      "text/plain": [
       "<Figure size 600x300 with 1 Axes>"
      ]
     },
     "metadata": {},
     "output_type": "display_data"
    }
   ],
   "source": [
    "plt.figure(figsize=(6,3))\n",
    "for i, word in enumerate(vocab[:20]): #loop each unique vocab\n",
    "    x, y = get_embed(word)\n",
    "    plt.scatter(x, y)\n",
    "    plt.annotate(word, xy=(x, y), xytext=(5, 2), textcoords='offset points')\n",
    "plt.show()"
   ]
  },
  {
   "cell_type": "code",
   "execution_count": 22,
   "metadata": {},
   "outputs": [
    {
     "data": {
      "text/plain": [
       "tensor([ 0.0812, -0.9284], grad_fn=<EmbeddingBackward0>)"
      ]
     },
     "execution_count": 22,
     "metadata": {},
     "output_type": "execute_result"
    }
   ],
   "source": [
    "model.embedding_v(torch.tensor(1))"
   ]
  },
  {
   "cell_type": "code",
   "execution_count": 23,
   "metadata": {},
   "outputs": [],
   "source": [
    "\n",
    "# word = torch.LongTensor([word2index['ran']])\n",
    "# word2 = torch.LongTensor([word2index['seldom']])\n",
    "\n",
    "# m1 = model.embedding_v(word)[0].detach().numpy()\n",
    "# m2 =model.embedding_v(word2)[0].detach().numpy()\n",
    "# cos_sim(m1,m2) \n",
    "\n",
    "# cos_sim(get_embed_test('run'), get_embed_test('ran'))\n"
   ]
  },
  {
   "attachments": {},
   "cell_type": "markdown",
   "metadata": {},
   "source": [
    "# END OF FILE HERRE\n",
    "-------------"
   ]
  },
  {
   "cell_type": "code",
   "execution_count": 24,
   "metadata": {},
   "outputs": [],
   "source": [
    "#numpy version\n",
    "from numpy import dot\n",
    "from numpy.linalg import norm\n",
    "\n",
    "def cos_sim(a, b):\n",
    "    cos_sim = dot(a, b)/(norm(a)*norm(b))\n",
    "    return cos_sim\n",
    "    \n",
    "def get_embed_test(word):\n",
    "    try:\n",
    "        index = word2index[word]\n",
    "    except :\n",
    "        index = word2index['<UNK>'] #unknown\n",
    "    word = torch.LongTensor([index])\n",
    "    \n",
    "    embed =  (model.embedding_v(word) + model.embedding_u(word))/2\n",
    "    return np.array(embed[0].detach().numpy())"
   ]
  },
  {
   "cell_type": "code",
   "execution_count": null,
   "metadata": {},
   "outputs": [],
   "source": []
  },
  {
   "cell_type": "code",
   "execution_count": 25,
   "metadata": {},
   "outputs": [],
   "source": [
    "def find_analogy(a,b,c,vocab = vocab,model = model):\n",
    "    emb_a, emb_b, emb_c = get_embed_test(a),get_embed_test(b),get_embed_test(c)\n",
    "    vector = emb_b - emb_a + emb_c\n",
    "    similarity = -1 \n",
    "    retvoc = ''\n",
    "    for voc in vocab:\n",
    "        if voc not in [a,b,c]: \n",
    "            current_sim = cos_sim(vector,get_embed_test(voc))\n",
    "            if current_sim > similarity:\n",
    "                similarity = current_sim #update better one\n",
    "                ret_voc = voc\n",
    "                # print('hi')\n",
    "    return ret_voc, similarity"
   ]
  },
  {
   "cell_type": "code",
   "execution_count": 26,
   "metadata": {},
   "outputs": [],
   "source": [
    "# find_analogy('bud', 'create', 'point')"
   ]
  },
  {
   "cell_type": "code",
   "execution_count": null,
   "metadata": {},
   "outputs": [],
   "source": []
  },
  {
   "cell_type": "code",
   "execution_count": 27,
   "metadata": {},
   "outputs": [
    {
     "name": "stdout",
     "output_type": "stream",
     "text": [
      "[0, 507, 5032, 5899, 8367, 8874, 9867, 10680, 12013, 13136, 14193, 15793, 17354, 18687]\n"
     ]
    }
   ],
   "source": [
    "# with open('questions-words.txt','r') as \n",
    "\n",
    "text = open('questions-words.txt',mode='r')\n",
    "df_ = pd.DataFrame(text.readlines())\n",
    "header = df_[0].str.startswith(':')\n",
    "index_list = np.where(header)[0].tolist()\n",
    "print(index_list)\n",
    "df = df_[8875:9867]"
   ]
  },
  {
   "cell_type": "code",
   "execution_count": 28,
   "metadata": {},
   "outputs": [],
   "source": [
    "\n",
    "\n",
    "def clean_data(df_col):\n",
    "    corpus = []\n",
    "    for item in df_col:\n",
    "        item = re.sub('[^A-Za-z0-9]+', ' ', str(item)) # remove special characters\n",
    "        item = item.lower() # lower all characters\n",
    "        item = item.split() # split data\n",
    "        corpus.append(' '.join(str(x) for x in item))\n",
    "    return corpus"
   ]
  },
  {
   "cell_type": "code",
   "execution_count": 29,
   "metadata": {},
   "outputs": [
    {
     "data": {
      "text/plain": [
       "[['amazing', 'amazingly', 'apparent', 'apparently'],\n",
       " ['amazing', 'amazingly', 'calm', 'calmly'],\n",
       " ['amazing', 'amazingly', 'cheerful', 'cheerfully'],\n",
       " ['amazing', 'amazingly', 'complete', 'completely'],\n",
       " ['amazing', 'amazingly', 'efficient', 'efficiently']]"
      ]
     },
     "execution_count": 29,
     "metadata": {},
     "output_type": "execute_result"
    }
   ],
   "source": [
    "ctest = clean_data(df[0])\n",
    "#data tokenized\n",
    "tokenized_test = [sent.split(\" \") for sent in ctest]\n",
    "tokenized_test[:5]"
   ]
  },
  {
   "cell_type": "code",
   "execution_count": 30,
   "metadata": {},
   "outputs": [
    {
     "data": {
      "text/html": [
       "<div>\n",
       "<style scoped>\n",
       "    .dataframe tbody tr th:only-of-type {\n",
       "        vertical-align: middle;\n",
       "    }\n",
       "\n",
       "    .dataframe tbody tr th {\n",
       "        vertical-align: top;\n",
       "    }\n",
       "\n",
       "    .dataframe thead th {\n",
       "        text-align: right;\n",
       "    }\n",
       "</style>\n",
       "<table border=\"1\" class=\"dataframe\">\n",
       "  <thead>\n",
       "    <tr style=\"text-align: right;\">\n",
       "      <th></th>\n",
       "      <th>A</th>\n",
       "      <th>B</th>\n",
       "      <th>C</th>\n",
       "      <th>D</th>\n",
       "    </tr>\n",
       "  </thead>\n",
       "  <tbody>\n",
       "    <tr>\n",
       "      <th>0</th>\n",
       "      <td>amazing</td>\n",
       "      <td>amazingly</td>\n",
       "      <td>apparent</td>\n",
       "      <td>apparently</td>\n",
       "    </tr>\n",
       "    <tr>\n",
       "      <th>1</th>\n",
       "      <td>amazing</td>\n",
       "      <td>amazingly</td>\n",
       "      <td>calm</td>\n",
       "      <td>calmly</td>\n",
       "    </tr>\n",
       "    <tr>\n",
       "      <th>2</th>\n",
       "      <td>amazing</td>\n",
       "      <td>amazingly</td>\n",
       "      <td>cheerful</td>\n",
       "      <td>cheerfully</td>\n",
       "    </tr>\n",
       "    <tr>\n",
       "      <th>3</th>\n",
       "      <td>amazing</td>\n",
       "      <td>amazingly</td>\n",
       "      <td>complete</td>\n",
       "      <td>completely</td>\n",
       "    </tr>\n",
       "    <tr>\n",
       "      <th>4</th>\n",
       "      <td>amazing</td>\n",
       "      <td>amazingly</td>\n",
       "      <td>efficient</td>\n",
       "      <td>efficiently</td>\n",
       "    </tr>\n",
       "  </tbody>\n",
       "</table>\n",
       "</div>"
      ],
      "text/plain": [
       "         A          B          C            D\n",
       "0  amazing  amazingly   apparent   apparently\n",
       "1  amazing  amazingly       calm       calmly\n",
       "2  amazing  amazingly   cheerful   cheerfully\n",
       "3  amazing  amazingly   complete   completely\n",
       "4  amazing  amazingly  efficient  efficiently"
      ]
     },
     "execution_count": 30,
     "metadata": {},
     "output_type": "execute_result"
    }
   ],
   "source": [
    "data = pd.DataFrame(tokenized_test, columns=[\"A\", \"B\", \"C\", \"D\"])\n",
    "data.head()"
   ]
  },
  {
   "cell_type": "code",
   "execution_count": 31,
   "metadata": {},
   "outputs": [],
   "source": [
    "def analogy_accuracy(i,data = tokenized_test[:500]): #testing \n",
    "    corrects = 0\n",
    "    total = len(data)\n",
    "    for  a, b, c, d  in data :\n",
    "        # a, b, c, d = row['A'],row['B'],row['C'],row['D']\n",
    "        predict = find_analogy(a,b,c)[0] \n",
    "        if predict == d: \n",
    "            corrects +=1 \n",
    "    acc = corrects/total\n",
    "    return acc"
   ]
  },
  {
   "cell_type": "code",
   "execution_count": 32,
   "metadata": {},
   "outputs": [
    {
     "ename": "KeyboardInterrupt",
     "evalue": "",
     "output_type": "error",
     "traceback": [
      "\u001b[0;31m---------------------------------------------------------------------------\u001b[0m",
      "\u001b[0;31mKeyboardInterrupt\u001b[0m                         Traceback (most recent call last)",
      "Cell \u001b[0;32mIn[32], line 1\u001b[0m\n\u001b[0;32m----> 1\u001b[0m analogy_accuracy(\u001b[39m'\u001b[39;49m\u001b[39mNone\u001b[39;49m\u001b[39m'\u001b[39;49m)\n",
      "Cell \u001b[0;32mIn[31], line 6\u001b[0m, in \u001b[0;36manalogy_accuracy\u001b[0;34m(i, data)\u001b[0m\n\u001b[1;32m      3\u001b[0m total \u001b[39m=\u001b[39m \u001b[39mlen\u001b[39m(data)\n\u001b[1;32m      4\u001b[0m \u001b[39mfor\u001b[39;00m  a, b, c, d  \u001b[39min\u001b[39;00m data :\n\u001b[1;32m      5\u001b[0m     \u001b[39m# a, b, c, d = row['A'],row['B'],row['C'],row['D']\u001b[39;00m\n\u001b[0;32m----> 6\u001b[0m     predict \u001b[39m=\u001b[39m find_analogy(a,b,c)[\u001b[39m0\u001b[39m] \n\u001b[1;32m      7\u001b[0m     \u001b[39mif\u001b[39;00m predict \u001b[39m==\u001b[39m d: \n\u001b[1;32m      8\u001b[0m         corrects \u001b[39m+\u001b[39m\u001b[39m=\u001b[39m\u001b[39m1\u001b[39m \n",
      "Cell \u001b[0;32mIn[25], line 8\u001b[0m, in \u001b[0;36mfind_analogy\u001b[0;34m(a, b, c, vocab, model)\u001b[0m\n\u001b[1;32m      6\u001b[0m \u001b[39mfor\u001b[39;00m voc \u001b[39min\u001b[39;00m vocab:\n\u001b[1;32m      7\u001b[0m     \u001b[39mif\u001b[39;00m voc \u001b[39mnot\u001b[39;00m \u001b[39min\u001b[39;00m [a,b,c]: \n\u001b[0;32m----> 8\u001b[0m         current_sim \u001b[39m=\u001b[39m cos_sim(vector,get_embed_test(voc))\n\u001b[1;32m      9\u001b[0m         \u001b[39mif\u001b[39;00m current_sim \u001b[39m>\u001b[39m similarity:\n\u001b[1;32m     10\u001b[0m             similarity \u001b[39m=\u001b[39m current_sim \u001b[39m#update better one\u001b[39;00m\n",
      "Cell \u001b[0;32mIn[24], line 16\u001b[0m, in \u001b[0;36mget_embed_test\u001b[0;34m(word)\u001b[0m\n\u001b[1;32m     13\u001b[0m     index \u001b[39m=\u001b[39m word2index[\u001b[39m'\u001b[39m\u001b[39m<UNK>\u001b[39m\u001b[39m'\u001b[39m] \u001b[39m#unknown\u001b[39;00m\n\u001b[1;32m     14\u001b[0m word \u001b[39m=\u001b[39m torch\u001b[39m.\u001b[39mLongTensor([index])\n\u001b[0;32m---> 16\u001b[0m embed \u001b[39m=\u001b[39m  (model\u001b[39m.\u001b[39;49membedding_v(word) \u001b[39m+\u001b[39;49m model\u001b[39m.\u001b[39;49membedding_u(word))\u001b[39m/\u001b[39;49m\u001b[39m2\u001b[39;49m\n\u001b[1;32m     17\u001b[0m \u001b[39mreturn\u001b[39;00m np\u001b[39m.\u001b[39marray(embed[\u001b[39m0\u001b[39m]\u001b[39m.\u001b[39mdetach()\u001b[39m.\u001b[39mnumpy())\n",
      "\u001b[0;31mKeyboardInterrupt\u001b[0m: "
     ]
    }
   ],
   "source": [
    "analogy_accuracy('None')"
   ]
  },
  {
   "cell_type": "code",
   "execution_count": null,
   "metadata": {},
   "outputs": [],
   "source": []
  }
 ],
 "metadata": {
  "kernelspec": {
   "display_name": "ai50",
   "language": "python",
   "name": "python3"
  },
  "language_info": {
   "codemirror_mode": {
    "name": "ipython",
    "version": 3
   },
   "file_extension": ".py",
   "mimetype": "text/x-python",
   "name": "python",
   "nbconvert_exporter": "python",
   "pygments_lexer": "ipython3",
   "version": "3.9.15 (main, Nov 24 2022, 08:29:02) \n[Clang 14.0.6 ]"
  },
  "orig_nbformat": 4,
  "vscode": {
   "interpreter": {
    "hash": "da867d72de60a3e86a2b69a9a7baea090d67382d01a73f765a7401ae7e7cc0f6"
   }
  }
 },
 "nbformat": 4,
 "nbformat_minor": 2
}
